{
 "cells": [
  {
   "cell_type": "code",
   "execution_count": 345,
   "id": "c1b78bfe",
   "metadata": {},
   "outputs": [],
   "source": [
    "import pandas as pd\n",
    "from sklearn.tree import DecisionTreeClassifier\n",
    "from sklearn.tree import plot_tree\n",
    "import matplotlib.pyplot as plt\n",
    "from sklearn.ensemble import RandomForestRegressor\n",
    "from sklearn.preprocessing import OrdinalEncoder,  StandardScaler\n",
    "from sklearn.preprocessing import OneHotEncoder\n",
    "import numpy as np\n",
    "import random\n",
    "from sklearn.model_selection import train_test_split, GridSearchCV\n",
    "from sklearn.compose import ColumnTransformer\n",
    "from sklearn.pipeline import Pipeline\n",
    "from sklearn.metrics import confusion_matrix\n",
    "from sklearn.linear_model import LogisticRegression\n",
    "from sklearn.metrics import classification_report\n",
    "from sklearn.impute import SimpleImputer"
   ]
  },
  {
   "cell_type": "code",
   "execution_count": 346,
   "id": "2a8271c1",
   "metadata": {},
   "outputs": [],
   "source": [
    "compas = pd.read_csv('compas-scores.csv')\n",
    "compas = compas.drop_duplicates(subset = compas.columns.values.tolist()[1:], keep='first')\n",
    "compas = compas.fillna(\"0\")\n",
    "compas = compas[compas['is_recid'] != -1]\n",
    "columns_drop = ['id', 'name', 'first', 'last', 'compas_screening_date', 'dob', 'days_b_screening_arrest', 'c_jail_in', 'c_jail_out', 'c_case_number', 'c_offense_date', 'c_arrest_date', 'c_days_from_compas', 'r_case_number', 'r_charge_degree', 'r_days_from_arrest', 'r_offense_date', 'r_charge_desc', 'r_jail_in', 'r_jail_out', 'is_violent_recid', 'num_vr_cases', 'vr_case_number', 'vr_offense_date', 'vr_charge_degree' , 'vr_charge_desc', 'screening_date', 'v_screening_date','num_r_cases','decile_score.1','c_charge_desc']\n",
    "compas = compas.drop(columns=columns_drop, errors = 'ignore')\n",
    "[train, test] = train_test_split(compas,test_size=0.3)\n",
    "X_train = train.drop('is_recid',axis=1) \n",
    "y_train =train['is_recid']\n",
    "X_test = test.drop('is_recid',axis=1)\n",
    "y_test = test['is_recid'] "
   ]
  },
  {
   "cell_type": "code",
   "execution_count": 347,
   "id": "90037154",
   "metadata": {},
   "outputs": [],
   "source": [
    "ordinal_cat_cols = [ 'age_cat', 'c_charge_degree','decile_score','v_decile_score','v_score_text','score_text'] \n",
    "oe = OrdinalEncoder() \n",
    "ohe = OneHotEncoder(handle_unknown='ignore')\n",
    "onehot_cat_cols = ['sex','race','type_of_assessment','v_type_of_assessment']\n",
    "numerical_cols =['age', 'juv_fel_count','juv_misd_count','juv_other_count','priors_count'] \n",
    "ie = SimpleImputer(missing_values=np.nan,strategy='mean')\n",
    "scaler=StandardScaler()\n",
    "preprocessor= ColumnTransformer( \n",
    "    transformers = [\n",
    "        ('cat',ohe,onehot_cat_cols),\n",
    "        ('ord',oe,ordinal_cat_cols),\n",
    "        ('num', ie, numerical_cols),\n",
    "        ])"
   ]
  },
  {
   "cell_type": "code",
   "execution_count": 348,
   "id": "c33c85b9",
   "metadata": {},
   "outputs": [
    {
     "name": "stdout",
     "output_type": "stream",
     "text": [
      "              precision    recall  f1-score   support\n",
      "\n",
      "           0       0.73      0.79      0.76      2227\n",
      "           1       0.48      0.40      0.44      1085\n",
      "\n",
      "    accuracy                           0.66      3312\n",
      "   macro avg       0.61      0.60      0.60      3312\n",
      "weighted avg       0.65      0.66      0.65      3312\n",
      "\n",
      "              precision    recall  f1-score   support\n",
      "\n",
      "           0       0.72      0.91      0.80      2227\n",
      "           1       0.60      0.28      0.38      1085\n",
      "\n",
      "    accuracy                           0.70      3312\n",
      "   macro avg       0.66      0.59      0.59      3312\n",
      "weighted avg       0.68      0.70      0.67      3312\n",
      "\n"
     ]
    }
   ],
   "source": [
    "rf_pipeline = Pipeline(steps =[\n",
    "    ('preprocessor',preprocessor),\n",
    "    ('rf', RandomForestRegressor(n_estimators =100,random_state=42))\n",
    "    ]) \n",
    "rf_pipeline.fit(X_train,y_train.ravel())\n",
    "y_pred_rf = np.round(rf_pipeline.predict(X_test))\n",
    "conf_mat_rf = confusion_matrix(y_test, y_pred_rf)\n",
    "print(classification_report(y_test,y_pred_rf))\n",
    "\n",
    "lr_pipeline = Pipeline(steps = [\n",
    "    ('preprocessor',preprocessor),\n",
    "    ('lr', LogisticRegression(max_iter=1000, random_state=42))\n",
    "    ])\n",
    "\n",
    "lr_pipeline.fit(X_train,y_train.ravel())\n",
    "y_pred_lr = lr_pipeline.predict(X_test)\n",
    "conf_mat_lr = confusion_matrix(y_test, y_pred_lr)\n",
    "print(classification_report(y_test,y_pred_lr))"
   ]
  },
  {
   "cell_type": "code",
   "execution_count": 349,
   "id": "1d9c4c79",
   "metadata": {},
   "outputs": [
    {
     "name": "stdout",
     "output_type": "stream",
     "text": [
      "              precision    recall  f1-score   support\n",
      "\n",
      "           0       0.73      0.79      0.76      2227\n",
      "           1       0.48      0.40      0.44      1085\n",
      "\n",
      "    accuracy                           0.66      3312\n",
      "   macro avg       0.61      0.60      0.60      3312\n",
      "weighted avg       0.65      0.66      0.65      3312\n",
      "\n"
     ]
    }
   ],
   "source": [
    "preprocessor= ColumnTransformer( \n",
    "    transformers = [\n",
    "        ('cat',ohe,onehot_cat_cols),\n",
    "        ('ord',oe,ordinal_cat_cols),\n",
    "        ('num',ie,numerical_cols),\n",
    "        ])\n",
    "rf_pipeline = Pipeline(steps =[\n",
    "    ('preprocessor',preprocessor),\n",
    "    ('rf', RandomForestRegressor(n_estimators =100,random_state=42))\n",
    "    ]) \n",
    "rf_pipeline.fit(X_train,y_train.ravel())\n",
    "\n",
    "y_pred_rf = np.round(rf_pipeline.predict(X_test))\n",
    "conf_mat_rf = confusion_matrix(y_test, y_pred_rf)\n",
    "print(classification_report(y_test,y_pred_rf))"
   ]
  },
  {
   "cell_type": "code",
   "execution_count": 350,
   "id": "c4b93c39",
   "metadata": {
    "tags": []
   },
   "outputs": [
    {
     "name": "stdout",
     "output_type": "stream",
     "text": [
      "              precision    recall  f1-score   support\n",
      "\n",
      "           0       0.72      0.91      0.80      2227\n",
      "           1       0.60      0.28      0.38      1085\n",
      "\n",
      "    accuracy                           0.70      3312\n",
      "   macro avg       0.66      0.59      0.59      3312\n",
      "weighted avg       0.68      0.70      0.67      3312\n",
      "\n"
     ]
    }
   ],
   "source": [
    "lr_pipeline = Pipeline(steps = [\n",
    "    ('preprocessor',preprocessor),\n",
    "    ('lr', LogisticRegression(penalty='l2',max_iter=1000, random_state=42))\n",
    "    ])\n",
    "lr_pipeline.fit(X_train,y_train.ravel())\n",
    "y_pred_lr = lr_pipeline.predict(X_test)\n",
    "conf_mat_lr = confusion_matrix(y_test, y_pred_lr)\n",
    "print(classification_report(y_test,y_pred_lr))"
   ]
  },
  {
   "cell_type": "code",
   "execution_count": 351,
   "id": "06698de6",
   "metadata": {},
   "outputs": [
    {
     "name": "stdout",
     "output_type": "stream",
     "text": [
      "Statistical parity difference: 0.193\n",
      "Equal opportunity difference: 0.193\n",
      "Predictive rate parity difference: -0.031\n"
     ]
    }
   ],
   "source": [
    "y_pred_rf = np.round(rf_pipeline.predict(X_test))\n",
    "conf_mat_rf = confusion_matrix(y_test, y_pred_rf)\n",
    "\n",
    "\n",
    "group_col = 'race'\n",
    "privileged_groups = [{'race': 1}] # assuming 1 means Caucasian\n",
    "unprivileged_groups = [{'race': 0}] # assuming 0 means African American\n",
    "\n",
    "\n",
    "sp_diff = (conf_mat_rf[1,1]/np.sum(conf_mat_rf[1,:])) - (conf_mat_rf[0,1]/np.sum(conf_mat_rf[0,:]))\n",
    "print(f\"Statistical parity difference: {sp_diff:.3f}\")\n",
    "\n",
    "tpr_priv = conf_mat_rf[1,1]/np.sum(conf_mat_rf[1,:])\n",
    "tpr_unpriv = conf_mat_rf[0,1]/np.sum(conf_mat_rf[0,:])\n",
    "eopp_diff = tpr_priv - tpr_unpriv\n",
    "print(f\"Equal opportunity difference: {eopp_diff:.3f}\")\n",
    "\n"
   ]
  },
  {
   "cell_type": "code",
   "execution_count": 353,
   "id": "06ea1594",
   "metadata": {},
   "outputs": [
    {
     "name": "stdout",
     "output_type": "stream",
     "text": [
      "Influence'c_charge_degree': 0.057\n"
     ]
    }
   ],
   "source": [
    "feature_importances = rf_pipeline.named_steps['rf'].feature_importances_\n",
    "onehot_names = rf_pipeline.named_steps['preprocessor'].named_transformers_['cat'].get_feature_names_out(onehot_cat_cols)\n",
    "ord_names = rf_pipeline.named_steps['preprocessor'].named_transformers_['ord'].get_feature_names_out(ordinal_cat_cols)\n",
    "feature_names = np.append(onehot_names,ord_names)\n",
    "c_charge_degree_idx = np.where(feature_names == 'c_charge_degree')[0][0]\n",
    "c_charge_degree_importance = feature_importances[c_charge_degree_idx]\n",
    "print(f\"Influence'c_charge_degree': {c_charge_degree_importance:.3f}\")"
   ]
  },
  {
   "cell_type": "code",
   "execution_count": 355,
   "id": "31efe7da",
   "metadata": {},
   "outputs": [
    {
     "name": "stdout",
     "output_type": "stream",
     "text": [
      "Coeff 'c_charge_degree' in Logistic Regression: 0.075\n"
     ]
    }
   ],
   "source": [
    "\n",
    "coef_lr = lr_pipeline.named_steps['lr'].coef_[0]\n",
    "onehot_names = rf_pipeline.named_steps['preprocessor'].named_transformers_['cat'].get_feature_names_out(onehot_cat_cols)\n",
    "ord_names = rf_pipeline.named_steps['preprocessor'].named_transformers_['ord'].get_feature_names_out(ordinal_cat_cols)\n",
    "num_names = rf_pipeline.named_steps['preprocessor'].named_transformers_['num'].get_feature_names_out(numerical_cols)\n",
    "feature_names = np.append(onehot_names,ord_names)\n",
    "feature_names = np.append(feature_names,num_names)\n",
    "c_charge_degree_idx = np.where(feature_names == 'c_charge_degree')[0][0]\n",
    "#c_charge_degree_idx = X_train.columns.get_loc('c_charge_degree')\n",
    "c_charge_degree_coef = coef_lr[c_charge_degree_idx]\n",
    "\n",
    "print(f\"Coeff 'c_charge_degree' in Logistic Regression: {c_charge_degree_coef:.3f}\")"
   ]
  }
 ],
 "metadata": {
  "kernelspec": {
   "display_name": "Python 3 (ipykernel)",
   "language": "python",
   "name": "python3"
  },
  "language_info": {
   "codemirror_mode": {
    "name": "ipython",
    "version": 3
   },
   "file_extension": ".py",
   "mimetype": "text/x-python",
   "name": "python",
   "nbconvert_exporter": "python",
   "pygments_lexer": "ipython3",
   "version": "3.9.15"
  }
 },
 "nbformat": 4,
 "nbformat_minor": 5
}
