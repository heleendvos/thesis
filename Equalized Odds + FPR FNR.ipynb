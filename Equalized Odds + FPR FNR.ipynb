{
 "cells": [
  {
   "cell_type": "code",
   "execution_count": 1,
   "id": "cf54e217",
   "metadata": {},
   "outputs": [],
   "source": [
    "import pandas as pd\n",
    "from sklearn.tree import DecisionTreeClassifier\n",
    "from sklearn.tree import plot_tree\n",
    "import matplotlib.pyplot as plt\n",
    "from sklearn.ensemble import RandomForestRegressor\n",
    "from sklearn.preprocessing import OrdinalEncoder,  StandardScaler\n",
    "from sklearn.preprocessing import OneHotEncoder\n",
    "import numpy as np\n",
    "import random\n",
    "from sklearn.model_selection import train_test_split, GridSearchCV\n",
    "from sklearn.compose import ColumnTransformer\n",
    "from sklearn.pipeline import Pipeline\n",
    "from sklearn.metrics import confusion_matrix\n",
    "from sklearn.linear_model import LogisticRegression\n",
    "from sklearn.metrics import classification_report\n",
    "from sklearn.impute import SimpleImputer"
   ]
  },
  {
   "cell_type": "code",
   "execution_count": 2,
   "id": "a8b61b16",
   "metadata": {},
   "outputs": [],
   "source": [
    "compas = pd.read_csv('compas-scores.csv')\n",
    "compas = compas.drop_duplicates(subset = compas.columns.values.tolist()[1:], keep='first')\n",
    "compas = compas.fillna(\"0\")\n",
    "compas = compas[compas['is_recid'] != -1]\n",
    "columns_drop = ['id', 'name', 'first', 'last', 'compas_screening_date', 'dob', 'days_b_screening_arrest', 'c_jail_in', 'c_jail_out', 'c_case_number', 'c_offense_date', 'c_arrest_date', 'c_days_from_compas', 'r_case_number', 'r_charge_degree', 'r_days_from_arrest', 'r_offense_date', 'r_charge_desc', 'r_jail_in', 'r_jail_out', 'is_violent_recid', 'num_vr_cases', 'vr_case_number', 'vr_offense_date', 'vr_charge_degree' , 'vr_charge_desc', 'screening_date', 'v_screening_date','num_r_cases','decile_score.1','c_charge_desc']\n",
    "compas = compas.drop(columns=columns_drop, errors = 'ignore')\n",
    "[train, test] = train_test_split(compas,test_size=0.3)\n",
    "X_train = train.drop('is_recid',axis=1) \n",
    "y_train =train['is_recid']\n",
    "X_test = test.drop('is_recid',axis=1)\n",
    "y_test = test['is_recid'] "
   ]
  },
  {
   "cell_type": "code",
   "execution_count": 3,
   "id": "c1766e59",
   "metadata": {},
   "outputs": [],
   "source": [
    "ordinal_cat_cols = [ 'age_cat', 'c_charge_degree','decile_score','v_decile_score','v_score_text','score_text'] \n",
    "oe = OrdinalEncoder() \n",
    "ohe = OneHotEncoder(handle_unknown='ignore')\n",
    "onehot_cat_cols = ['sex','race','type_of_assessment','v_type_of_assessment']\n",
    "numerical_cols =['age', 'juv_fel_count','juv_misd_count','juv_other_count','priors_count'] \n",
    "ie = SimpleImputer(missing_values=np.nan,strategy='mean')\n",
    "scaler=StandardScaler()\n",
    "preprocessor= ColumnTransformer( \n",
    "    transformers = [\n",
    "        ('cat',ohe,onehot_cat_cols),\n",
    "        ('ord',oe,ordinal_cat_cols),\n",
    "        ('num', ie, numerical_cols),\n",
    "        ])"
   ]
  },
  {
   "cell_type": "code",
   "execution_count": 6,
   "id": "10d09ff8",
   "metadata": {},
   "outputs": [
    {
     "name": "stdout",
     "output_type": "stream",
     "text": [
      "              precision    recall  f1-score   support\n",
      "\n",
      "           0       0.73      0.78      0.75      2213\n",
      "           1       0.49      0.43      0.46      1099\n",
      "\n",
      "    accuracy                           0.66      3312\n",
      "   macro avg       0.61      0.60      0.61      3312\n",
      "weighted avg       0.65      0.66      0.66      3312\n",
      "\n",
      "              precision    recall  f1-score   support\n",
      "\n",
      "           0       0.72      0.91      0.81      2213\n",
      "           1       0.62      0.30      0.40      1099\n",
      "\n",
      "    accuracy                           0.71      3312\n",
      "   macro avg       0.67      0.60      0.60      3312\n",
      "weighted avg       0.69      0.71      0.67      3312\n",
      "\n"
     ]
    }
   ],
   "source": [
    "rf_pipeline = Pipeline(steps =[\n",
    "    ('preprocessor',preprocessor),\n",
    "    ('rf', RandomForestRegressor(n_estimators =100,random_state=42))\n",
    "    ]) \n",
    "rf_pipeline.fit(X_train,y_train.ravel())\n",
    "\n",
    "y_pred_rf = np.round(rf_pipeline.predict(X_test))\n",
    "conf_mat_rf = confusion_matrix(y_test, y_pred_rf)\n",
    "print(classification_report(y_test,y_pred_rf))\n",
    "\n",
    "lr_pipeline = Pipeline(steps = [\n",
    "    ('preprocessor',preprocessor),\n",
    "    ('lr', LogisticRegression(max_iter=1000, random_state=42))\n",
    "    ])\n",
    "\n",
    "lr_pipeline.fit(X_train,y_train.ravel())\n",
    "y_pred_lr = lr_pipeline.predict(X_test)\n",
    "conf_mat_lr = confusion_matrix(y_test, y_pred_lr)\n",
    "print(classification_report(y_test,y_pred_lr))"
   ]
  },
  {
   "cell_type": "code",
   "execution_count": 8,
   "id": "6b1a86b5",
   "metadata": {},
   "outputs": [],
   "source": [
    "#calculaate the confusion matrix for the predictions as before\n",
    "conf_mat = confusion_matrix(y_test, y_pred_rf)"
   ]
  },
  {
   "cell_type": "code",
   "execution_count": 9,
   "id": "f07b2be8",
   "metadata": {},
   "outputs": [],
   "source": [
    "#get the indices\n",
    "privileged_indices = X_test['race'] == 'Caucasian'\n",
    "unprivileged_indices = X_test['race'] != 'Caucasian'"
   ]
  },
  {
   "cell_type": "code",
   "execution_count": 11,
   "id": "f33ddce2",
   "metadata": {},
   "outputs": [
    {
     "name": "stdout",
     "output_type": "stream",
     "text": [
      "FPR for privileged group (White): 0.1768219832735962\n",
      "FNR for privileged group (White): 0.67601246105919\n",
      "FPR for unprivileged group (Black): 0.30713547052740436\n",
      "FNR for unprivileged group (Black): 0.500768049155146\n"
     ]
    }
   ],
   "source": [
    "# calculate FPR and FNR for privileged group (White)\n",
    "tp_privileged = np.sum((y_test == 1) & (y_pred_rf == 1) & (X_test['race'] == 'Caucasian'))\n",
    "fp_privileged = np.sum((y_test == 0) & (y_pred_rf == 1) & (X_test['race'] == 'Caucasian'))\n",
    "tn_privileged = np.sum((y_test == 0) & (y_pred_rf == 0) & (X_test['race'] == 'Caucasian'))\n",
    "fn_privileged = np.sum((y_test == 1) & (y_pred_rf == 0) & (X_test['race'] == 'Caucasian'))\n",
    "\n",
    "fpr_privileged = fp_privileged / (fp_privileged + tn_privileged)\n",
    "fnr_privileged = fn_privileged / (fn_privileged + tp_privileged)\n",
    "\n",
    "# calculate FPR and FNR for unprivileged group (Black)\n",
    "tp_unprivileged = np.sum((y_test == 1) & (y_pred_rf == 1) & (X_test['race'] == 'African-American'))\n",
    "fp_unprivileged = np.sum((y_test == 0) & (y_pred_rf == 1) & (X_test['race'] == 'African-American'))\n",
    "tn_unprivileged = np.sum((y_test == 0) & (y_pred_rf == 0) & (X_test['race'] == 'African-American'))\n",
    "fn_unprivileged = np.sum((y_test == 1) & (y_pred_rf == 0) & (X_test['race'] == 'African-American'))\n",
    "\n",
    "fpr_unprivileged = fp_unprivileged / (fp_unprivileged + tn_unprivileged)\n",
    "fnr_unprivileged = fn_unprivileged / (fn_unprivileged + tp_unprivileged)\n",
    "\n",
    "# print FPR and FNR for privileged and unprivileged groups\n",
    "print(\"FPR for privileged group (White):\", fpr_privileged)\n",
    "print(\"FNR for privileged group (White):\", fnr_privileged)\n",
    "print(\"FPR for unprivileged group (Black):\", fpr_unprivileged)\n",
    "print(\"FNR for unprivileged group (Black):\", fnr_unprivileged)"
   ]
  },
  {
   "cell_type": "code",
   "execution_count": 12,
   "id": "caa9baa8",
   "metadata": {},
   "outputs": [
    {
     "name": "stdout",
     "output_type": "stream",
     "text": [
      "Equalized odds for privileged group (White): 0.13031348725380817\n",
      "Equalized odds for unprivileged group (Black): 0.17524441190404405\n"
     ]
    }
   ],
   "source": [
    "#calculate the equalized odds\n",
    "equalized_odds_privileged = abs(fpr_privileged - fpr_unprivileged)\n",
    "equalized_odds_unprivileged = abs(fnr_privileged - fnr_unprivileged)\n",
    "\n",
    "print(\"Equalized odds for privileged group (White):\", equalized_odds_privileged)\n",
    "print(\"Equalized odds for unprivileged group (Black):\", equalized_odds_unprivileged)"
   ]
  },
  {
   "cell_type": "code",
   "execution_count": null,
   "id": "c741fdf9",
   "metadata": {},
   "outputs": [],
   "source": []
  }
 ],
 "metadata": {
  "kernelspec": {
   "display_name": "Python 3 (ipykernel)",
   "language": "python",
   "name": "python3"
  },
  "language_info": {
   "codemirror_mode": {
    "name": "ipython",
    "version": 3
   },
   "file_extension": ".py",
   "mimetype": "text/x-python",
   "name": "python",
   "nbconvert_exporter": "python",
   "pygments_lexer": "ipython3",
   "version": "3.9.15"
  }
 },
 "nbformat": 4,
 "nbformat_minor": 5
}
